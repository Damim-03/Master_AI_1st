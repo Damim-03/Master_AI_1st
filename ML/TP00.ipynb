{
 "cells": [
  {
   "cell_type": "code",
   "id": "initial_id",
   "metadata": {
    "collapsed": true,
    "ExecuteTime": {
     "end_time": "2025-10-11T09:00:56.420551Z",
     "start_time": "2025-10-11T08:59:42.021018Z"
    }
   },
   "source": "!pip install pandas numpy scikit-learn matplotlib seaborn",
   "outputs": [
    {
     "name": "stdout",
     "output_type": "stream",
     "text": [
      "Requirement already satisfied: pandas in c:\\users\\damim_x_adi\\pycharmprojects\\master_ai_1st\\.venv\\lib\\site-packages (2.3.3)\n",
      "Requirement already satisfied: numpy in c:\\users\\damim_x_adi\\pycharmprojects\\master_ai_1st\\.venv\\lib\\site-packages (2.3.3)\n",
      "Collecting scikit-learn\n",
      "  Using cached scikit_learn-1.7.2-cp313-cp313-win_amd64.whl.metadata (11 kB)\n",
      "Collecting matplotlib\n",
      "  Using cached matplotlib-3.10.7-cp313-cp313-win_amd64.whl.metadata (11 kB)\n",
      "Collecting seaborn\n",
      "  Using cached seaborn-0.13.2-py3-none-any.whl.metadata (5.4 kB)\n",
      "Requirement already satisfied: python-dateutil>=2.8.2 in c:\\users\\damim_x_adi\\pycharmprojects\\master_ai_1st\\.venv\\lib\\site-packages (from pandas) (2.9.0.post0)\n",
      "Requirement already satisfied: pytz>=2020.1 in c:\\users\\damim_x_adi\\pycharmprojects\\master_ai_1st\\.venv\\lib\\site-packages (from pandas) (2025.2)\n",
      "Requirement already satisfied: tzdata>=2022.7 in c:\\users\\damim_x_adi\\pycharmprojects\\master_ai_1st\\.venv\\lib\\site-packages (from pandas) (2025.2)\n",
      "Requirement already satisfied: scipy>=1.8.0 in c:\\users\\damim_x_adi\\pycharmprojects\\master_ai_1st\\.venv\\lib\\site-packages (from scikit-learn) (1.16.2)\n",
      "Requirement already satisfied: joblib>=1.2.0 in c:\\users\\damim_x_adi\\pycharmprojects\\master_ai_1st\\.venv\\lib\\site-packages (from scikit-learn) (1.5.2)\n",
      "Requirement already satisfied: threadpoolctl>=3.1.0 in c:\\users\\damim_x_adi\\pycharmprojects\\master_ai_1st\\.venv\\lib\\site-packages (from scikit-learn) (3.6.0)\n",
      "Collecting contourpy>=1.0.1 (from matplotlib)\n",
      "  Using cached contourpy-1.3.3-cp313-cp313-win_amd64.whl.metadata (5.5 kB)\n",
      "Collecting cycler>=0.10 (from matplotlib)\n",
      "  Using cached cycler-0.12.1-py3-none-any.whl.metadata (3.8 kB)\n",
      "Requirement already satisfied: fonttools>=4.22.0 in c:\\users\\damim_x_adi\\pycharmprojects\\master_ai_1st\\.venv\\lib\\site-packages (from matplotlib) (4.60.1)\n",
      "Requirement already satisfied: kiwisolver>=1.3.1 in c:\\users\\damim_x_adi\\pycharmprojects\\master_ai_1st\\.venv\\lib\\site-packages (from matplotlib) (1.4.9)\n",
      "Requirement already satisfied: packaging>=20.0 in c:\\users\\damim_x_adi\\pycharmprojects\\master_ai_1st\\.venv\\lib\\site-packages (from matplotlib) (25.0)\n",
      "Requirement already satisfied: pillow>=8 in c:\\users\\damim_x_adi\\pycharmprojects\\master_ai_1st\\.venv\\lib\\site-packages (from matplotlib) (11.3.0)\n",
      "Requirement already satisfied: pyparsing>=3 in c:\\users\\damim_x_adi\\pycharmprojects\\master_ai_1st\\.venv\\lib\\site-packages (from matplotlib) (3.2.5)\n",
      "Requirement already satisfied: six>=1.5 in c:\\users\\damim_x_adi\\pycharmprojects\\master_ai_1st\\.venv\\lib\\site-packages (from python-dateutil>=2.8.2->pandas) (1.17.0)\n",
      "Using cached scikit_learn-1.7.2-cp313-cp313-win_amd64.whl (8.7 MB)\n",
      "Using cached matplotlib-3.10.7-cp313-cp313-win_amd64.whl (8.1 MB)\n",
      "Using cached seaborn-0.13.2-py3-none-any.whl (294 kB)\n",
      "Using cached contourpy-1.3.3-cp313-cp313-win_amd64.whl (226 kB)\n",
      "Using cached cycler-0.12.1-py3-none-any.whl (8.3 kB)\n",
      "Installing collected packages: cycler, contourpy, scikit-learn, matplotlib, seaborn\n",
      "\n",
      "   -------- ------------------------------- 1/5 [contourpy]\n",
      "   -------- ------------------------------- 1/5 [contourpy]\n",
      "   -------- ------------------------------- 1/5 [contourpy]\n",
      "   -------- ------------------------------- 1/5 [contourpy]\n",
      "   -------- ------------------------------- 1/5 [contourpy]\n",
      "   -------- ------------------------------- 1/5 [contourpy]\n",
      "   ---------------- ----------------------- 2/5 [scikit-learn]\n",
      "   ---------------- ----------------------- 2/5 [scikit-learn]\n",
      "   ---------------- ----------------------- 2/5 [scikit-learn]\n",
      "   ---------------- ----------------------- 2/5 [scikit-learn]\n",
      "   ---------------- ----------------------- 2/5 [scikit-learn]\n",
      "   ---------------- ----------------------- 2/5 [scikit-learn]\n",
      "   ---------------- ----------------------- 2/5 [scikit-learn]\n",
      "   ---------------- ----------------------- 2/5 [scikit-learn]\n",
      "   ---------------- ----------------------- 2/5 [scikit-learn]\n",
      "   ---------------- ----------------------- 2/5 [scikit-learn]\n",
      "   ---------------- ----------------------- 2/5 [scikit-learn]\n",
      "   ---------------- ----------------------- 2/5 [scikit-learn]\n",
      "   ---------------- ----------------------- 2/5 [scikit-learn]\n",
      "   ---------------- ----------------------- 2/5 [scikit-learn]\n",
      "   ---------------- ----------------------- 2/5 [scikit-learn]\n",
      "   ---------------- ----------------------- 2/5 [scikit-learn]\n",
      "   ---------------- ----------------------- 2/5 [scikit-learn]\n",
      "   ---------------- ----------------------- 2/5 [scikit-learn]\n",
      "   ---------------- ----------------------- 2/5 [scikit-learn]\n",
      "   ---------------- ----------------------- 2/5 [scikit-learn]\n",
      "   ---------------- ----------------------- 2/5 [scikit-learn]\n",
      "   ---------------- ----------------------- 2/5 [scikit-learn]\n",
      "   ---------------- ----------------------- 2/5 [scikit-learn]\n",
      "   ---------------- ----------------------- 2/5 [scikit-learn]\n",
      "   ---------------- ----------------------- 2/5 [scikit-learn]\n",
      "   ---------------- ----------------------- 2/5 [scikit-learn]\n",
      "   ---------------- ----------------------- 2/5 [scikit-learn]\n",
      "   ---------------- ----------------------- 2/5 [scikit-learn]\n",
      "   ---------------- ----------------------- 2/5 [scikit-learn]\n",
      "   ---------------- ----------------------- 2/5 [scikit-learn]\n",
      "   ---------------- ----------------------- 2/5 [scikit-learn]\n",
      "   ---------------- ----------------------- 2/5 [scikit-learn]\n",
      "   ---------------- ----------------------- 2/5 [scikit-learn]\n",
      "   ---------------- ----------------------- 2/5 [scikit-learn]\n",
      "   ---------------- ----------------------- 2/5 [scikit-learn]\n",
      "   ---------------- ----------------------- 2/5 [scikit-learn]\n",
      "   ---------------- ----------------------- 2/5 [scikit-learn]\n",
      "   ---------------- ----------------------- 2/5 [scikit-learn]\n",
      "   ---------------- ----------------------- 2/5 [scikit-learn]\n",
      "   ---------------- ----------------------- 2/5 [scikit-learn]\n",
      "   ---------------- ----------------------- 2/5 [scikit-learn]\n",
      "   ---------------- ----------------------- 2/5 [scikit-learn]\n",
      "   ---------------- ----------------------- 2/5 [scikit-learn]\n",
      "   ---------------- ----------------------- 2/5 [scikit-learn]\n",
      "   ---------------- ----------------------- 2/5 [scikit-learn]\n",
      "   ---------------- ----------------------- 2/5 [scikit-learn]\n",
      "   ---------------- ----------------------- 2/5 [scikit-learn]\n",
      "   ---------------- ----------------------- 2/5 [scikit-learn]\n",
      "   ---------------- ----------------------- 2/5 [scikit-learn]\n",
      "   ---------------- ----------------------- 2/5 [scikit-learn]\n",
      "   ---------------- ----------------------- 2/5 [scikit-learn]\n",
      "   ---------------- ----------------------- 2/5 [scikit-learn]\n",
      "   ---------------- ----------------------- 2/5 [scikit-learn]\n",
      "   ---------------- ----------------------- 2/5 [scikit-learn]\n",
      "   ---------------- ----------------------- 2/5 [scikit-learn]\n",
      "   ---------------- ----------------------- 2/5 [scikit-learn]\n",
      "   ---------------- ----------------------- 2/5 [scikit-learn]\n",
      "   ---------------- ----------------------- 2/5 [scikit-learn]\n",
      "   ---------------- ----------------------- 2/5 [scikit-learn]\n",
      "   ---------------- ----------------------- 2/5 [scikit-learn]\n",
      "   ---------------- ----------------------- 2/5 [scikit-learn]\n",
      "   ---------------- ----------------------- 2/5 [scikit-learn]\n",
      "   ---------------- ----------------------- 2/5 [scikit-learn]\n",
      "   ---------------- ----------------------- 2/5 [scikit-learn]\n",
      "   ---------------- ----------------------- 2/5 [scikit-learn]\n",
      "   ---------------- ----------------------- 2/5 [scikit-learn]\n",
      "   ---------------- ----------------------- 2/5 [scikit-learn]\n",
      "   ---------------- ----------------------- 2/5 [scikit-learn]\n",
      "   ---------------- ----------------------- 2/5 [scikit-learn]\n",
      "   ---------------- ----------------------- 2/5 [scikit-learn]\n",
      "   ---------------- ----------------------- 2/5 [scikit-learn]\n",
      "   ---------------- ----------------------- 2/5 [scikit-learn]\n",
      "   ---------------- ----------------------- 2/5 [scikit-learn]\n",
      "   ---------------- ----------------------- 2/5 [scikit-learn]\n",
      "   ---------------- ----------------------- 2/5 [scikit-learn]\n",
      "   ---------------- ----------------------- 2/5 [scikit-learn]\n",
      "   ---------------- ----------------------- 2/5 [scikit-learn]\n",
      "   ---------------- ----------------------- 2/5 [scikit-learn]\n",
      "   ---------------- ----------------------- 2/5 [scikit-learn]\n",
      "   ---------------- ----------------------- 2/5 [scikit-learn]\n",
      "   ---------------- ----------------------- 2/5 [scikit-learn]\n",
      "   ---------------- ----------------------- 2/5 [scikit-learn]\n",
      "   ---------------- ----------------------- 2/5 [scikit-learn]\n",
      "   ---------------- ----------------------- 2/5 [scikit-learn]\n",
      "   ---------------- ----------------------- 2/5 [scikit-learn]\n",
      "   ---------------- ----------------------- 2/5 [scikit-learn]\n",
      "   ---------------- ----------------------- 2/5 [scikit-learn]\n",
      "   ---------------- ----------------------- 2/5 [scikit-learn]\n",
      "   ---------------- ----------------------- 2/5 [scikit-learn]\n",
      "   ---------------- ----------------------- 2/5 [scikit-learn]\n",
      "   ---------------- ----------------------- 2/5 [scikit-learn]\n",
      "   ---------------- ----------------------- 2/5 [scikit-learn]\n",
      "   ---------------- ----------------------- 2/5 [scikit-learn]\n",
      "   ---------------- ----------------------- 2/5 [scikit-learn]\n",
      "   ---------------- ----------------------- 2/5 [scikit-learn]\n",
      "   ---------------- ----------------------- 2/5 [scikit-learn]\n",
      "   ---------------- ----------------------- 2/5 [scikit-learn]\n",
      "   ---------------- ----------------------- 2/5 [scikit-learn]\n",
      "   ---------------- ----------------------- 2/5 [scikit-learn]\n",
      "   ---------------- ----------------------- 2/5 [scikit-learn]\n",
      "   ---------------- ----------------------- 2/5 [scikit-learn]\n",
      "   ---------------- ----------------------- 2/5 [scikit-learn]\n",
      "   ---------------- ----------------------- 2/5 [scikit-learn]\n",
      "   ---------------- ----------------------- 2/5 [scikit-learn]\n",
      "   ---------------- ----------------------- 2/5 [scikit-learn]\n",
      "   ---------------- ----------------------- 2/5 [scikit-learn]\n",
      "   ---------------- ----------------------- 2/5 [scikit-learn]\n",
      "   ---------------- ----------------------- 2/5 [scikit-learn]\n",
      "   ---------------- ----------------------- 2/5 [scikit-learn]\n",
      "   ---------------- ----------------------- 2/5 [scikit-learn]\n",
      "   ---------------- ----------------------- 2/5 [scikit-learn]\n",
      "   ---------------- ----------------------- 2/5 [scikit-learn]\n",
      "   ---------------- ----------------------- 2/5 [scikit-learn]\n",
      "   ---------------- ----------------------- 2/5 [scikit-learn]\n",
      "   ---------------- ----------------------- 2/5 [scikit-learn]\n",
      "   ---------------- ----------------------- 2/5 [scikit-learn]\n",
      "   ---------------- ----------------------- 2/5 [scikit-learn]\n",
      "   ---------------- ----------------------- 2/5 [scikit-learn]\n",
      "   ---------------- ----------------------- 2/5 [scikit-learn]\n",
      "   ---------------- ----------------------- 2/5 [scikit-learn]\n",
      "   ---------------- ----------------------- 2/5 [scikit-learn]\n",
      "   ---------------- ----------------------- 2/5 [scikit-learn]\n",
      "   ---------------- ----------------------- 2/5 [scikit-learn]\n",
      "   ---------------- ----------------------- 2/5 [scikit-learn]\n",
      "   ---------------- ----------------------- 2/5 [scikit-learn]\n",
      "   ---------------- ----------------------- 2/5 [scikit-learn]\n",
      "   ---------------- ----------------------- 2/5 [scikit-learn]\n",
      "   ---------------- ----------------------- 2/5 [scikit-learn]\n",
      "   ---------------- ----------------------- 2/5 [scikit-learn]\n",
      "   ---------------- ----------------------- 2/5 [scikit-learn]\n",
      "   ---------------- ----------------------- 2/5 [scikit-learn]\n",
      "   ---------------- ----------------------- 2/5 [scikit-learn]\n",
      "   ---------------- ----------------------- 2/5 [scikit-learn]\n",
      "   ---------------- ----------------------- 2/5 [scikit-learn]\n",
      "   ---------------- ----------------------- 2/5 [scikit-learn]\n",
      "   ---------------- ----------------------- 2/5 [scikit-learn]\n",
      "   ---------------- ----------------------- 2/5 [scikit-learn]\n",
      "   ---------------- ----------------------- 2/5 [scikit-learn]\n",
      "   ---------------- ----------------------- 2/5 [scikit-learn]\n",
      "   ---------------- ----------------------- 2/5 [scikit-learn]\n",
      "   ---------------- ----------------------- 2/5 [scikit-learn]\n",
      "   ---------------- ----------------------- 2/5 [scikit-learn]\n",
      "   ---------------- ----------------------- 2/5 [scikit-learn]\n",
      "   ---------------- ----------------------- 2/5 [scikit-learn]\n",
      "   ---------------- ----------------------- 2/5 [scikit-learn]\n",
      "   ---------------- ----------------------- 2/5 [scikit-learn]\n",
      "   ---------------- ----------------------- 2/5 [scikit-learn]\n",
      "   ---------------- ----------------------- 2/5 [scikit-learn]\n",
      "   ---------------- ----------------------- 2/5 [scikit-learn]\n",
      "   ---------------- ----------------------- 2/5 [scikit-learn]\n",
      "   ---------------- ----------------------- 2/5 [scikit-learn]\n",
      "   ---------------- ----------------------- 2/5 [scikit-learn]\n",
      "   ---------------- ----------------------- 2/5 [scikit-learn]\n",
      "   ---------------- ----------------------- 2/5 [scikit-learn]\n",
      "   ---------------- ----------------------- 2/5 [scikit-learn]\n",
      "   ---------------- ----------------------- 2/5 [scikit-learn]\n",
      "   ---------------- ----------------------- 2/5 [scikit-learn]\n",
      "   ---------------- ----------------------- 2/5 [scikit-learn]\n",
      "   ---------------- ----------------------- 2/5 [scikit-learn]\n",
      "   ------------------------ --------------- 3/5 [matplotlib]\n",
      "   ------------------------ --------------- 3/5 [matplotlib]\n",
      "   ------------------------ --------------- 3/5 [matplotlib]\n",
      "   ------------------------ --------------- 3/5 [matplotlib]\n",
      "   ------------------------ --------------- 3/5 [matplotlib]\n",
      "   ------------------------ --------------- 3/5 [matplotlib]\n",
      "   ------------------------ --------------- 3/5 [matplotlib]\n",
      "   ------------------------ --------------- 3/5 [matplotlib]\n",
      "   ------------------------ --------------- 3/5 [matplotlib]\n",
      "   ------------------------ --------------- 3/5 [matplotlib]\n",
      "   ------------------------ --------------- 3/5 [matplotlib]\n",
      "   ------------------------ --------------- 3/5 [matplotlib]\n",
      "   ------------------------ --------------- 3/5 [matplotlib]\n",
      "   ------------------------ --------------- 3/5 [matplotlib]\n",
      "   ------------------------ --------------- 3/5 [matplotlib]\n",
      "   ------------------------ --------------- 3/5 [matplotlib]\n",
      "   ------------------------ --------------- 3/5 [matplotlib]\n",
      "   ------------------------ --------------- 3/5 [matplotlib]\n",
      "   ------------------------ --------------- 3/5 [matplotlib]\n",
      "   ------------------------ --------------- 3/5 [matplotlib]\n",
      "   ------------------------ --------------- 3/5 [matplotlib]\n",
      "   ------------------------ --------------- 3/5 [matplotlib]\n",
      "   ------------------------ --------------- 3/5 [matplotlib]\n",
      "   ------------------------ --------------- 3/5 [matplotlib]\n",
      "   ------------------------ --------------- 3/5 [matplotlib]\n",
      "   ------------------------ --------------- 3/5 [matplotlib]\n",
      "   ------------------------ --------------- 3/5 [matplotlib]\n",
      "   ------------------------ --------------- 3/5 [matplotlib]\n",
      "   ------------------------ --------------- 3/5 [matplotlib]\n",
      "   ------------------------ --------------- 3/5 [matplotlib]\n",
      "   ------------------------ --------------- 3/5 [matplotlib]\n",
      "   ------------------------ --------------- 3/5 [matplotlib]\n",
      "   ------------------------ --------------- 3/5 [matplotlib]\n",
      "   ------------------------ --------------- 3/5 [matplotlib]\n",
      "   ------------------------ --------------- 3/5 [matplotlib]\n",
      "   ------------------------ --------------- 3/5 [matplotlib]\n",
      "   ------------------------ --------------- 3/5 [matplotlib]\n",
      "   ------------------------ --------------- 3/5 [matplotlib]\n",
      "   ------------------------ --------------- 3/5 [matplotlib]\n",
      "   ------------------------ --------------- 3/5 [matplotlib]\n",
      "   ------------------------ --------------- 3/5 [matplotlib]\n",
      "   ------------------------ --------------- 3/5 [matplotlib]\n",
      "   ------------------------ --------------- 3/5 [matplotlib]\n",
      "   ------------------------ --------------- 3/5 [matplotlib]\n",
      "   ------------------------ --------------- 3/5 [matplotlib]\n",
      "   ------------------------ --------------- 3/5 [matplotlib]\n",
      "   ------------------------ --------------- 3/5 [matplotlib]\n",
      "   ------------------------ --------------- 3/5 [matplotlib]\n",
      "   ------------------------ --------------- 3/5 [matplotlib]\n",
      "   ------------------------ --------------- 3/5 [matplotlib]\n",
      "   ------------------------ --------------- 3/5 [matplotlib]\n",
      "   ------------------------ --------------- 3/5 [matplotlib]\n",
      "   ------------------------ --------------- 3/5 [matplotlib]\n",
      "   ------------------------ --------------- 3/5 [matplotlib]\n",
      "   ------------------------ --------------- 3/5 [matplotlib]\n",
      "   ------------------------ --------------- 3/5 [matplotlib]\n",
      "   ------------------------ --------------- 3/5 [matplotlib]\n",
      "   ------------------------ --------------- 3/5 [matplotlib]\n",
      "   ------------------------ --------------- 3/5 [matplotlib]\n",
      "   ------------------------ --------------- 3/5 [matplotlib]\n",
      "   ------------------------ --------------- 3/5 [matplotlib]\n",
      "   ------------------------ --------------- 3/5 [matplotlib]\n",
      "   ------------------------ --------------- 3/5 [matplotlib]\n",
      "   ------------------------ --------------- 3/5 [matplotlib]\n",
      "   ------------------------ --------------- 3/5 [matplotlib]\n",
      "   ------------------------ --------------- 3/5 [matplotlib]\n",
      "   ------------------------ --------------- 3/5 [matplotlib]\n",
      "   ------------------------ --------------- 3/5 [matplotlib]\n",
      "   ------------------------ --------------- 3/5 [matplotlib]\n",
      "   ------------------------ --------------- 3/5 [matplotlib]\n",
      "   ------------------------ --------------- 3/5 [matplotlib]\n",
      "   ------------------------ --------------- 3/5 [matplotlib]\n",
      "   ------------------------ --------------- 3/5 [matplotlib]\n",
      "   ------------------------ --------------- 3/5 [matplotlib]\n",
      "   ------------------------ --------------- 3/5 [matplotlib]\n",
      "   ------------------------ --------------- 3/5 [matplotlib]\n",
      "   ------------------------ --------------- 3/5 [matplotlib]\n",
      "   ------------------------ --------------- 3/5 [matplotlib]\n",
      "   ------------------------ --------------- 3/5 [matplotlib]\n",
      "   ------------------------ --------------- 3/5 [matplotlib]\n",
      "   ------------------------ --------------- 3/5 [matplotlib]\n",
      "   ------------------------ --------------- 3/5 [matplotlib]\n",
      "   ------------------------ --------------- 3/5 [matplotlib]\n",
      "   ------------------------ --------------- 3/5 [matplotlib]\n",
      "   ------------------------ --------------- 3/5 [matplotlib]\n",
      "   ------------------------ --------------- 3/5 [matplotlib]\n",
      "   ------------------------ --------------- 3/5 [matplotlib]\n",
      "   ------------------------ --------------- 3/5 [matplotlib]\n",
      "   ------------------------ --------------- 3/5 [matplotlib]\n",
      "   ------------------------ --------------- 3/5 [matplotlib]\n",
      "   -------------------------------- ------- 4/5 [seaborn]\n",
      "   -------------------------------- ------- 4/5 [seaborn]\n",
      "   -------------------------------- ------- 4/5 [seaborn]\n",
      "   -------------------------------- ------- 4/5 [seaborn]\n",
      "   -------------------------------- ------- 4/5 [seaborn]\n",
      "   -------------------------------- ------- 4/5 [seaborn]\n",
      "   -------------------------------- ------- 4/5 [seaborn]\n",
      "   -------------------------------- ------- 4/5 [seaborn]\n",
      "   -------------------------------- ------- 4/5 [seaborn]\n",
      "   -------------------------------- ------- 4/5 [seaborn]\n",
      "   -------------------------------- ------- 4/5 [seaborn]\n",
      "   ---------------------------------------- 5/5 [seaborn]\n",
      "\n",
      "Successfully installed contourpy-1.3.3 cycler-0.12.1 matplotlib-3.10.7 scikit-learn-1.7.2 seaborn-0.13.2\n"
     ]
    },
    {
     "name": "stderr",
     "output_type": "stream",
     "text": [
      "\n",
      "[notice] A new release of pip is available: 25.1.1 -> 25.2\n",
      "[notice] To update, run: python.exe -m pip install --upgrade pip\n"
     ]
    }
   ],
   "execution_count": 2
  },
  {
   "metadata": {
    "ExecuteTime": {
     "end_time": "2025-10-11T09:45:22.272590Z",
     "start_time": "2025-10-11T09:45:22.269175Z"
    }
   },
   "cell_type": "code",
   "source": [
    "import numpy as np\n",
    "import matplotlib.pyplot as plt\n",
    "import pandas as pd\n",
    "import joblib"
   ],
   "id": "35a1ff6c6ca2b16",
   "outputs": [],
   "execution_count": 124
  },
  {
   "metadata": {
    "ExecuteTime": {
     "end_time": "2025-10-11T09:45:26.788545Z",
     "start_time": "2025-10-11T09:45:26.783822Z"
    }
   },
   "cell_type": "code",
   "source": [
    "from sklearn.model_selection import train_test_split\n",
    "from sklearn.preprocessing import StandardScaler\n",
    "from sklearn.linear_model import LinearRegression\n",
    "from sklearn.ensemble import RandomForestRegressor\n",
    "from xgboost import XGBRegressor\n",
    "from sklearn.metrics import r2_score, mean_absolute_error, mean_squared_error\n",
    "from matplotlib.ticker import FuncFormatter"
   ],
   "id": "b5f9c776b706826a",
   "outputs": [],
   "execution_count": 125
  },
  {
   "metadata": {
    "ExecuteTime": {
     "end_time": "2025-10-11T09:45:28.124399Z",
     "start_time": "2025-10-11T09:45:28.105083Z"
    }
   },
   "cell_type": "code",
   "source": [
    "# Load dataset\n",
    "data = pd.read_csv(\"./datasets/data.csv\")"
   ],
   "id": "d8d6c90e0c111de6",
   "outputs": [],
   "execution_count": 126
  },
  {
   "metadata": {
    "ExecuteTime": {
     "end_time": "2025-10-11T09:45:29.186757Z",
     "start_time": "2025-10-11T09:45:29.177436Z"
    }
   },
   "cell_type": "code",
   "source": [
    "# Display shape and preview\n",
    "print(\"Shape:\", data.shape)\n",
    "print(data.head())"
   ],
   "id": "3c2b36cf0a1ed0ee",
   "outputs": [
    {
     "name": "stdout",
     "output_type": "stream",
     "text": [
      "Shape: (4600, 18)\n",
      "                  date      price  bedrooms  bathrooms  sqft_living  sqft_lot  \\\n",
      "0  2014-05-02 00:00:00   313000.0       3.0       1.50         1340      7912   \n",
      "1  2014-05-02 00:00:00  2384000.0       5.0       2.50         3650      9050   \n",
      "2  2014-05-02 00:00:00   342000.0       3.0       2.00         1930     11947   \n",
      "3  2014-05-02 00:00:00   420000.0       3.0       2.25         2000      8030   \n",
      "4  2014-05-02 00:00:00   550000.0       4.0       2.50         1940     10500   \n",
      "\n",
      "   floors  waterfront  view  condition  sqft_above  sqft_basement  yr_built  \\\n",
      "0     1.5           0     0          3        1340              0      1955   \n",
      "1     2.0           0     4          5        3370            280      1921   \n",
      "2     1.0           0     0          4        1930              0      1966   \n",
      "3     1.0           0     0          4        1000           1000      1963   \n",
      "4     1.0           0     0          4        1140            800      1976   \n",
      "\n",
      "   yr_renovated                    street       city  statezip country  \n",
      "0          2005      18810 Densmore Ave N  Shoreline  WA 98133     USA  \n",
      "1             0           709 W Blaine St    Seattle  WA 98119     USA  \n",
      "2             0  26206-26214 143rd Ave SE       Kent  WA 98042     USA  \n",
      "3             0           857 170th Pl NE   Bellevue  WA 98008     USA  \n",
      "4          1992         9105 170th Ave NE    Redmond  WA 98052     USA  \n"
     ]
    }
   ],
   "execution_count": 127
  },
  {
   "metadata": {
    "ExecuteTime": {
     "end_time": "2025-10-11T09:45:36.263634Z",
     "start_time": "2025-10-11T09:45:36.254737Z"
    }
   },
   "cell_type": "code",
   "source": [
    "# Check missing values\n",
    "print(data.isnull().sum())"
   ],
   "id": "7bb58532742e8729",
   "outputs": [
    {
     "name": "stdout",
     "output_type": "stream",
     "text": [
      "date             0\n",
      "price            0\n",
      "bedrooms         0\n",
      "bathrooms        0\n",
      "sqft_living      0\n",
      "sqft_lot         0\n",
      "floors           0\n",
      "waterfront       0\n",
      "view             0\n",
      "condition        0\n",
      "sqft_above       0\n",
      "sqft_basement    0\n",
      "yr_built         0\n",
      "yr_renovated     0\n",
      "street           0\n",
      "city             0\n",
      "statezip         0\n",
      "country          0\n",
      "dtype: int64\n"
     ]
    }
   ],
   "execution_count": 128
  },
  {
   "metadata": {
    "ExecuteTime": {
     "end_time": "2025-10-11T09:45:39.718974Z",
     "start_time": "2025-10-11T09:45:39.688830Z"
    }
   },
   "cell_type": "code",
   "source": [
    "# Remove duplicate rows\n",
    "data = data.drop_duplicates()\n",
    "\n",
    "# Fill missing numeric values with median\n",
    "num_cols = data.select_dtypes(include=[np.number]).columns\n",
    "data[num_cols] = data[num_cols].apply(lambda col: col.fillna(col.median()))\n",
    "\n",
    "# Fill missing categorical values with mode (most frequent)\n",
    "cat_cols = data.select_dtypes(include=['object', 'category']).columns\n",
    "data[cat_cols] = data[cat_cols].apply(lambda col: col.fillna(col.mode()[0]) if not col.mode().empty else col)\n",
    "\n",
    "# Clean unrealistic or invalid values (if columns exist)\n",
    "if 'price' in data.columns:\n",
    "    # Remove prices that are too small or too large\n",
    "    data = data[(data['price'] > 10000) & (data['price'] < 1e8)]\n",
    "if 'area' in data.columns:\n",
    "    # Remove areas that are too small or too large\n",
    "    data = data[(data['area'] > 10) & (data['area'] < 10000)]\n",
    "\n",
    "# Optional: Reset index after cleaning\n",
    "data = data.reset_index(drop=True)\n",
    "\n",
    "print(\"✅ Data cleaned successfully!\")\n",
    "print(f\"Remaining rows: {len(data)}\")"
   ],
   "id": "db96154f949cdde",
   "outputs": [
    {
     "name": "stdout",
     "output_type": "stream",
     "text": [
      "✅ Data cleaned successfully!\n",
      "Remaining rows: 4550\n"
     ]
    }
   ],
   "execution_count": 129
  },
  {
   "metadata": {
    "ExecuteTime": {
     "end_time": "2025-10-11T09:45:43.840843Z",
     "start_time": "2025-10-11T09:45:43.816217Z"
    }
   },
   "cell_type": "code",
   "source": "data = pd.get_dummies(data, drop_first=True)",
   "id": "72e26084b578fec",
   "outputs": [],
   "execution_count": 130
  },
  {
   "metadata": {
    "ExecuteTime": {
     "end_time": "2025-10-11T09:45:44.935297Z",
     "start_time": "2025-10-11T09:45:44.920971Z"
    }
   },
   "cell_type": "code",
   "source": [
    "if 'price' not in data.columns:\n",
    "    raise KeyError(\"❌ 'price' column not found in dataset!\")\n",
    "\n",
    "X = data.drop(columns=['price'])\n",
    "y = data['price']"
   ],
   "id": "fd234e04b1fdf303",
   "outputs": [],
   "execution_count": 131
  },
  {
   "metadata": {
    "ExecuteTime": {
     "end_time": "2025-10-11T09:45:48.720307Z",
     "start_time": "2025-10-11T09:45:48.679092Z"
    }
   },
   "cell_type": "code",
   "source": [
    "X_train, X_test, y_train, y_test = train_test_split(\n",
    "    X, y, test_size=0.2, random_state=42\n",
    ")"
   ],
   "id": "e293a1f1d9c3af73",
   "outputs": [],
   "execution_count": 132
  },
  {
   "metadata": {
    "ExecuteTime": {
     "end_time": "2025-10-11T09:45:51.015858Z",
     "start_time": "2025-10-11T09:45:50.369526Z"
    }
   },
   "cell_type": "code",
   "source": [
    "scaler = StandardScaler()\n",
    "X_train_scaled = scaler.fit_transform(X_train)\n",
    "X_test_scaled = scaler.transform(X_test)\n",
    "\n",
    "print(\"✅ Data successfully prepared for training!\")\n",
    "print(f\"🧩 X_train shape: {X_train_scaled.shape}\")\n",
    "print(f\"🧩 X_test shape: {X_test_scaled.shape}\")"
   ],
   "id": "766bab74cff7b979",
   "outputs": [
    {
     "name": "stdout",
     "output_type": "stream",
     "text": [
      "✅ Data successfully prepared for training!\n",
      "🧩 X_train shape: (3640, 4674)\n",
      "🧩 X_test shape: (910, 4674)\n"
     ]
    }
   ],
   "execution_count": 133
  },
  {
   "metadata": {
    "ExecuteTime": {
     "end_time": "2025-10-11T09:47:10.928541Z",
     "start_time": "2025-10-11T09:45:57.352386Z"
    }
   },
   "cell_type": "code",
   "source": [
    "results = []\n",
    "\n",
    "models = {\n",
    "    \"Linear Regression\": LinearRegression(),\n",
    "    \"Random Forest\": RandomForestRegressor(n_estimators=200, random_state=42),\n",
    "    \"XGBoost\": XGBRegressor(n_estimators=300, learning_rate=0.05, random_state=42)\n",
    "}\n",
    "\n",
    "for name, model in models.items():\n",
    "    model.fit(X_train, y_train)\n",
    "    preds = model.predict(X_test)\n",
    "\n",
    "    r2 = r2_score(y_test, preds)\n",
    "    mae = mean_absolute_error(y_test, preds)\n",
    "    rmse = np.sqrt(mean_squared_error(y_test, preds))\n",
    "\n",
    "    results.append((name, r2, mae, rmse))\n",
    "\n",
    "# Sort by R² descending\n",
    "results.sort(key=lambda x: x[1], reverse=True)\n",
    "\n",
    "print(\"\\n🏆 Model Performance Comparison:\")\n",
    "for name, r2, mae, rmse in results:\n",
    "    print(f\"{name:20s} | R² = {r2:.4f} | MAE = {mae:,.2f} | RMSE = {rmse:,.2f}\")"
   ],
   "id": "ab2e556928e898e8",
   "outputs": [
    {
     "name": "stdout",
     "output_type": "stream",
     "text": [
      "\n",
      "🏆 Model Performance Comparison:\n",
      "XGBoost              | R² = 0.3806 | MAE = 112,880.19 | RMSE = 445,566.05\n",
      "Random Forest        | R² = 0.3551 | MAE = 120,264.85 | RMSE = 454,640.45\n",
      "Linear Regression    | R² = -0.2062 | MAE = 292,415.33 | RMSE = 621,754.84\n"
     ]
    }
   ],
   "execution_count": 134
  },
  {
   "metadata": {
    "ExecuteTime": {
     "end_time": "2025-10-11T09:48:39.673724Z",
     "start_time": "2025-10-11T09:48:32.144802Z"
    }
   },
   "cell_type": "code",
   "source": [
    "best_model = XGBRegressor(n_estimators=300, learning_rate=0.05, random_state=42)\n",
    "best_model.fit(X_train, y_train)\n",
    "\n",
    "\n",
    "joblib.dump(best_model, \"best_house_price_model.pkl\")\n",
    "joblib.dump(scaler, \"scaler.pkl\")\n",
    "joblib.dump(X.columns.tolist(), \"feature_names.pkl\")"
   ],
   "id": "af3a196600d7c271",
   "outputs": [
    {
     "data": {
      "text/plain": [
       "['feature_names.pkl']"
      ]
     },
     "execution_count": 135,
     "metadata": {},
     "output_type": "execute_result"
    }
   ],
   "execution_count": 135
  },
  {
   "metadata": {
    "ExecuteTime": {
     "end_time": "2025-10-11T09:48:49.776190Z",
     "start_time": "2025-10-11T09:48:40.745342Z"
    }
   },
   "cell_type": "code",
   "source": [
    "# === Train Model ===\n",
    "best_model = XGBRegressor(n_estimators=300, learning_rate=0.05, random_state=42)\n",
    "best_model.fit(X_train, y_train)\n",
    "\n",
    "# === Save Model and Artifacts ===\n",
    "joblib.dump(best_model, \"best_house_price_model.pkl\")\n",
    "joblib.dump(scaler, \"scaler.pkl\")\n",
    "joblib.dump(X.columns.tolist(), \"feature_names.pkl\")\n",
    "\n",
    "# === Example new house ===\n",
    "new_house_data = {\n",
    "    'bedrooms': 4,\n",
    "    'bathrooms': 3,\n",
    "    'sqft_living': 2500,\n",
    "    'sqft_lot': 8000,\n",
    "    'floors': 2.0,\n",
    "    'waterfront': 0,\n",
    "    'view': 0,\n",
    "    'condition': 3,\n",
    "    'sqft_above': 2500,\n",
    "    'sqft_basement': 0,\n",
    "    'yr_built': 2000,\n",
    "    'yr_renovated': 0\n",
    "}\n",
    "\n",
    "# === Load Saved Items ===\n",
    "loaded_model = joblib.load(\"best_house_price_model.pkl\")\n",
    "loaded_scaler = joblib.load(\"scaler.pkl\")\n",
    "feature_names = joblib.load(\"feature_names.pkl\")\n",
    "\n",
    "# === Prepare Input ===\n",
    "new_house = pd.DataFrame([new_house_data])\n",
    "\n",
    "# ✅ Add missing columns efficiently\n",
    "missing_cols = [col for col in feature_names if col not in new_house.columns]\n",
    "if missing_cols:\n",
    "    # Create a DataFrame for all missing columns with zeros\n",
    "    missing_df = pd.DataFrame(0, index=new_house.index, columns=missing_cols)\n",
    "    # Concatenate all at once (avoids fragmentation)\n",
    "    new_house = pd.concat([new_house, missing_df], axis=1)\n",
    "\n",
    "# ✅ Match column order exactly\n",
    "new_house = new_house[feature_names]\n",
    "\n",
    "# === Scale & Predict ===\n",
    "new_house_scaled = loaded_scaler.transform(new_house)\n",
    "predicted_price = loaded_model.predict(new_house_scaled)\n",
    "\n",
    "print(f\"\\n🏠 Predicted House Price: ${round(predicted_price[0], 2)}\")"
   ],
   "id": "19325ca0d570a996",
   "outputs": [
    {
     "name": "stdout",
     "output_type": "stream",
     "text": [
      "\n",
      "🏠 Predicted House Price: $208383.21875\n"
     ]
    }
   ],
   "execution_count": 136
  },
  {
   "metadata": {
    "ExecuteTime": {
     "end_time": "2025-10-11T09:48:52.402181Z",
     "start_time": "2025-10-11T09:48:51.919949Z"
    }
   },
   "cell_type": "code",
   "source": [
    "# Set high-quality figure parameters\n",
    "plt.rcParams['figure.dpi'] = 100\n",
    "plt.rcParams['savefig.dpi'] = 300\n",
    "plt.rcParams['font.size'] = 11\n",
    "\n",
    "# Create predictions\n",
    "y_pred = best_model.predict(X_test)\n",
    "\n",
    "# Calculate R² score for annotation\n",
    "r2 = r2_score(y_test, y_pred)\n",
    "\n",
    "# Create figure with better size\n",
    "fig, ax = plt.subplots(figsize=(10, 8))\n",
    "\n",
    "# Scatter plot with better styling\n",
    "scatter = ax.scatter(y_test, y_pred,\n",
    "                     alpha=0.6,\n",
    "                     s=30,\n",
    "                     c='steelblue',\n",
    "                     edgecolors='white',\n",
    "                     linewidth=0.5)\n",
    "\n",
    "# Perfect prediction line (y=x)\n",
    "min_val = min(y_test.min(), y_pred.min())\n",
    "max_val = max(y_test.max(), y_pred.max())\n",
    "ax.plot([min_val, max_val], [min_val, max_val],\n",
    "        'r--',\n",
    "        linewidth=2,\n",
    "        label='Perfect Prediction',\n",
    "        alpha=0.8)\n",
    "\n",
    "# Add regression line\n",
    "z = np.polyfit(y_test, y_pred, 1)\n",
    "p = np.poly1d(z)\n",
    "ax.plot(y_test, p(y_test),\n",
    "        'g-',\n",
    "        linewidth=2,\n",
    "        label='Trend Line',\n",
    "        alpha=0.7)\n",
    "\n",
    "# Labels and title\n",
    "ax.set_xlabel('Actual House Prices ($)', fontsize=13, fontweight='bold')\n",
    "ax.set_ylabel('Predicted House Prices ($)', fontsize=13, fontweight='bold')\n",
    "ax.set_title('🏠 House Price Prediction: Actual vs Predicted',\n",
    "             fontsize=16,\n",
    "             fontweight='bold',\n",
    "             pad=20)\n",
    "\n",
    "# Format axes with currency\n",
    "ax.ticklabel_format(style='plain', axis='both')\n",
    "def currency(x, pos):\n",
    "    return f'${x/1e6:.1f}M' if x >= 1e6 else f'${x/1e3:.0f}K'\n",
    "ax.xaxis.set_major_formatter(FuncFormatter(currency))\n",
    "ax.yaxis.set_major_formatter(FuncFormatter(currency))\n",
    "\n",
    "# Add R² score text box\n",
    "textstr = f'R² Score: {r2:.3f}'\n",
    "props = dict(boxstyle='round', facecolor='wheat', alpha=0.8)\n",
    "ax.text(0.05, 0.95, textstr,\n",
    "        transform=ax.transAxes,\n",
    "        fontsize=12,\n",
    "        verticalalignment='top',\n",
    "        bbox=props)\n",
    "\n",
    "# Grid and legend\n",
    "ax.grid(True, alpha=0.3, linestyle='--')\n",
    "ax.legend(loc='lower right', fontsize=11, framealpha=0.9)\n",
    "\n",
    "# Tight layout for better spacing\n",
    "plt.tight_layout()\n",
    "plt.show()"
   ],
   "id": "ee8e2b24e682470a",
   "outputs": [
    {
     "name": "stderr",
     "output_type": "stream",
     "text": [
      "C:\\Users\\Damim_X_Adi\\AppData\\Local\\Temp\\ipykernel_11912\\1886251058.py:70: UserWarning: Glyph 127968 (\\N{HOUSE BUILDING}) missing from font(s) Arial.\n",
      "  plt.tight_layout()\n",
      "C:\\Users\\Damim_X_Adi\\PycharmProjects\\Master_AI_1st\\.venv\\Lib\\site-packages\\IPython\\core\\pylabtools.py:170: UserWarning: Glyph 127968 (\\N{HOUSE BUILDING}) missing from font(s) Arial.\n",
      "  fig.canvas.print_figure(bytes_io, **kw)\n"
     ]
    },
    {
     "data": {
      "text/plain": [
       "<Figure size 1000x800 with 1 Axes>"
      ],
      "image/png": "[encoded data removed]"
     },
     "metadata": {},
     "output_type": "display_data",
     "jetTransient": {
      "display_id": null
     }
    }
   ],
   "execution_count": 137
  }
 ],
 "metadata": {
  "kernelspec": {
   "display_name": "Python 3",
   "language": "python",
   "name": "python3"
  },
  "language_info": {
   "codemirror_mode": {
    "name": "ipython",
    "version": 2
   },
   "file_extension": ".py",
   "mimetype": "text/x-python",
   "name": "python",
   "nbconvert_exporter": "python",
   "pygments_lexer": "ipython2",
   "version": "2.7.6"
  }
 },
 "nbformat": 4,
 "nbformat_minor": 5
}
